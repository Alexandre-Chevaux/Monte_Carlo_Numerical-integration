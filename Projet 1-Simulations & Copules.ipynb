{
 "cells": [
  {
   "cell_type": "markdown",
   "metadata": {},
   "source": [
    "Alexandre CHEVAUX & Virgile AMATO"
   ]
  },
  {
   "cell_type": "markdown",
   "metadata": {},
   "source": [
    "### Introduction"
   ]
  },
  {
   "cell_type": "markdown",
   "metadata": {},
   "source": [
    "Import des librairies "
   ]
  },
  {
   "cell_type": "code",
   "execution_count": 146,
   "metadata": {},
   "outputs": [],
   "source": [
    "# pour la fonction persp3d\n",
    "require(\"rgl\")\n",
    "# pour la fonction quad2d\n",
    "require(\"pracma\")\n",
    "\n",
    "#install.packages(\"rgl\")"
   ]
  },
  {
   "cell_type": "markdown",
   "metadata": {},
   "source": [
    "On se propose, dans ce projet, d'étuder l'intégrale de la fonction h suivante : \n",
    "On essaye ici de calculer:\n",
    "$$\\text{I = } \\int_{0}^{2}\\int_{0}^{3} f(x,y) dx dy $$\n",
    "$$ \\text{ avec} f(x,y) = 1+log(x+y)*(2*x)$$"
   ]
  },
  {
   "cell_type": "code",
   "execution_count": 134,
   "metadata": {},
   "outputs": [],
   "source": [
    "h = function\n",
    "    (x, y)\n",
    "{\n",
    "  return(1 + log(x + y) * 2 * x)\n",
    "}"
   ]
  },
  {
   "cell_type": "markdown",
   "metadata": {},
   "source": [
    "on affiche la fonction en 3D afin de l'étudier, notamment son domaine de définition (support), ainsi que son domaine d'arrivée :\n",
    "Persp3d ne fonctionnant pas correctement dans Jupyter Notebook, le graphe est disponible dans l'annexe graphe et le code dans projet1_script.r"
   ]
  },
  {
   "cell_type": "markdown",
   "metadata": {},
   "source": [
    "On définit certains paramètres, notamment le maximum de la fonction, en analysant le graph 3d de celle-ci."
   ]
  },
  {
   "cell_type": "code",
   "execution_count": 147,
   "metadata": {},
   "outputs": [],
   "source": [
    "# nombres totales de simulations\n",
    "n = 1000\n",
    "# bornes de l'espace de définition de X\n",
    "inf_x = 0\n",
    "sup_x = 2\n",
    "# bornes de l'espace de définition de Y\n",
    "inf_y = 0\n",
    "sup_y = 3\n",
    "# En regardant la fonction dans persp3d, on peut voir que h est à valeur dans [0, 8]\n",
    "inf_v = 0\n",
    "sup_v = 8"
   ]
  },
  {
   "cell_type": "markdown",
   "metadata": {},
   "source": [
    "Nous souhaitons approximer l'intégrale de cette fonction (fonction de 2 variables donc double intégrale), qu'on nonte H.\n",
    "Nous utiliserons pour celà 4 méthodes, que nous comparerons, notamment en terme de vitesse d'éxecution, de vitesse de convergence, et de biais.\n",
    "Les 4 méthodes utilisées sont : \n",
    "- Méthode du Rejet\n",
    "- Méthode de Monte-Carlo\n",
    "- Méthode de la Fonction de Répartition inverse\n",
    "- Méthode de la Copule\n",
    "\n",
    "On calcul dans un premier temps la \"vrai valeur\" de la double intégrale de h (noté, pour rappel H),\n",
    "à l'aide d'une fonction R : quad2d\n",
    "- quad --> permet de calculer une intégrale simple\n",
    "- quad2d --> permet de calculer une intégrale double\n",
    "- quad3d --> permet de calculer une intégrale triple"
   ]
  },
  {
   "cell_type": "code",
   "execution_count": 117,
   "metadata": {},
   "outputs": [
    {
     "data": {
      "text/html": [
       "<span style=white-space:pre-wrap>'Vraie valeur de l\\'intégrale de h :  17.6027082428666'</span>"
      ],
      "text/latex": [
       "'Vraie valeur de l\\textbackslash{}'intégrale de h :  17.6027082428666'"
      ],
      "text/markdown": [
       "<span style=white-space:pre-wrap>'Vraie valeur de l\\'intégrale de h :  17.6027082428666'</span>"
      ],
      "text/plain": [
       "[1] \"Vraie valeur de l'intégrale de h :  17.6027082428666\""
      ]
     },
     "metadata": {},
     "output_type": "display_data"
    }
   ],
   "source": [
    "H = quad2d(h, inf_x, sup_x, inf_y, sup_y)\n",
    "paste(\"Vraie valeur de l'intégrale de h : \", H)"
   ]
  },
  {
   "cell_type": "markdown",
   "metadata": {},
   "source": [
    "### 1) méthode du Rejet"
   ]
  },
  {
   "cell_type": "markdown",
   "metadata": {},
   "source": [
    "\n",
    "Pour cela nous utilisons dans un 1er temps la méthode du rejet:\n",
    "On simule 3 variables aléatoires. \n",
    "Et on regarde le nombre de fois où le point simulé est supérieur ou inférieur à f.\n",
    "Or d'après la loi des grands nombres:\n",
    "$$ Sn= \\frac{1}{n} \\sum_{i=1}^{n}\\mathbb{1}[V_i \\leqslant f(Ux_i,Uy_i)] \\underset{p.s}{\\longrightarrow} \\mathbb{P} (V_i \\leqslant f(Ux_i,Uy_i)  = \\frac{\\int_{0}^{2}\\int_{0}^{3} f(x,y) dx dy}{K} $$\n",
    "$$ \\text{avec } U_x = \\mathbb{U}[0,2] U_y = \\mathbb{U}[0,3] \\text{ et } V = \\mathbb{U}[0,8]  $$\n",
    "$$ \\text{Ainsi } 2*3*8*Sn= \\int_{0}^{2}\\int_{0}^{3} f(x,y) dx dy $$"
   ]
  },
  {
   "cell_type": "code",
   "execution_count": 148,
   "metadata": {},
   "outputs": [],
   "source": [
    "ux = runif(n, inf_x, sup_x)\n",
    "uy = runif(n, inf_y, sup_y)\n",
    "\n",
    "v = runif(n, inf_v, sup_v)\n",
    "\n",
    "# Méthode A\n",
    "# Marche bien mais on veut pouvoir afficher la convergence\n",
    "#Sn = 1/n * sum(v <= h(ux, uy))\n",
    "#I = Sn * ((sup_x-inf_x)*(sup_y-inf_y)*(sup_v-inf_v))\n",
    "#paste(\"valeur de l'intégrale estimé par la méthode 1 : \", I)\n",
    "\n",
    "# Méthode B\n",
    "keeped_values = v <= h(ux, uy) * 1\n",
    "Sn_array1 = 1/(1:n) * cumsum(keeped_values) * ((sup_x-inf_x)*(sup_y-inf_y)*(sup_v-inf_v))\n",
    "Sn1 = 1/n * sum(keeped_values) * ((sup_x-inf_x)*(sup_y-inf_y)*(sup_v-inf_v))\n",
    "biais1 = mean(Sn_array1[n]) - H\n",
    "variance1 = var(Sn_array1 - H)"
   ]
  },
  {
   "cell_type": "markdown",
   "metadata": {},
   "source": [
    "### 2) méthode de Monte-Carlo"
   ]
  },
  {
   "cell_type": "markdown",
   "metadata": {},
   "source": [
    "La méthode du rejet nécessite de simuler 3 uniformes or il est possible d'améliorer ceci. \n",
    "En effet on remarque que: \n",
    "$$ I= \\int_{-\\infty}^{+\\infty}\\int_{-\\infty}^{+\\infty} f(x,y) \\mathbb{1}[ V[0,2] \\mathbb{1}[ U[0,3] dx dy = \\mathbb{E}[f(V)] $$\n",
    "On simule N fois U et V \n",
    "$$ Sn= \\frac{1}{n} \\sum_{i=1}^{n} f(U_i,V_i) \\underset{n\\to +\\infty}{\\longrightarrow} I $$\n"
   ]
  },
  {
   "cell_type": "code",
   "execution_count": 149,
   "metadata": {},
   "outputs": [],
   "source": [
    "\n",
    "x = runif(n, inf_x, sup_x)\n",
    "y = runif(n, inf_y, sup_y)\n",
    "\n",
    "Sn_array2 = (sup_x-inf_x) * (sup_y-inf_y) * cumsum(h(x, y))/(1:n)\n",
    "Sn2 =  1/n * (sup_x-inf_x) * (sup_y-inf_y) * sum(h(x, y))\n",
    "biais2 = mean(Sn_array2[n]) - H\n",
    "variance2 = var(Sn_array2 - H)"
   ]
  },
  {
   "cell_type": "markdown",
   "metadata": {},
   "source": [
    "### 2.1) méthode de Monte-Carlo - Variables Antithétiques"
   ]
  },
  {
   "cell_type": "markdown",
   "metadata": {},
   "source": [
    "Cette méthode reprend l'idée d'un Monte Carlo classique.\n",
    "Mais on l'applique non pas en simulant n uniforme mais on remarque que:\n",
    "$$ \\mathbb{U}_1 \\text{ et } 1-\\mathbb{U}_1 \\text{ont même loi} $$\n",
    "$$ \\text{on a donc } I=\\frac{1}{2} \\mathbb{E}[f(U_1)+f(1-U_1)] $$\n",
    "$$ \\text{et donc} \\tilde{S}_{2n} =\\frac{1}{2n}\\sum_{i=1}^{n} f(U_i)+ f(1-U_i)$$\n",
    "    \n",
    "L'avantage principale est d'améliorer la vitesse de convergence :\n",
    "Nous avons deux nouvelles observations (u et 1-u) à chaque nouvelle simulation de u.\n"
   ]
  },
  {
   "cell_type": "code",
   "execution_count": 150,
   "metadata": {},
   "outputs": [],
   "source": [
    "# On approxime l'intégral de f(x) par l'esperance de f(u) avec u une uniforme\n",
    "# sur le support de x (si x défini sur [0, 3] alors u uniforme sur [0, 3])\n",
    "# On applique la méthode des variables antithétiques : à chaque uniforme u, \n",
    "# on calcule l'esperance de 1/2 * (f(u) + f(sup(X) - u))\n",
    "# pour l'exemple précedent, celà donne : 1/2 * (f(u) + f(3 - u))\n",
    "# -> l'avantage principale est d'améliorer la vitesse de convergence :\n",
    "# -> on a deux nouvelles observations (u et 1-u) à chaque nouvelle simulation de u \n",
    "# -> c'est la méthode des variables antithétiques\n",
    "x = runif(n, inf_x, sup_x)\n",
    "y = runif(n, inf_y, sup_y)\n",
    "\n",
    "Sn_array21 = (sup_x-inf_x) * (sup_y-inf_y) * cumsum(h(x, y) + h(sup_x - x, sup_y - y))/(2*(1:n))\n",
    "Sn21 =  1/n * (sup_x-inf_x) * (sup_y-inf_y) * sum(1/2 * (h(x, y) + h(sup_x - x, sup_y - y)))\n",
    "biais21 = mean(Sn_array21[n]) - H\n",
    "variance21 = var(Sn_array21 - H)"
   ]
  },
  {
   "cell_type": "markdown",
   "metadata": {},
   "source": [
    "### 3) méthode de la FdR inverse"
   ]
  },
  {
   "cell_type": "markdown",
   "metadata": {},
   "source": [
    "Approximation des densités marginales par des fonctions affines"
   ]
  },
  {
   "cell_type": "markdown",
   "metadata": {},
   "source": [
    "Ceci est une généralisation des méthodes de Monte Carlo:\n",
    "On pose:\n",
    "$$ I= \\int_{\\mathbb{R}^d}  \\frac{f(x)}{p(x)}*p(x)dx $$\n",
    "$$ \\text{où p est une densité} $$\n",
    " On a d'après le théorème de convergence monotone:\n",
    "$$ S_n=\\frac{1}{n}\\sum_{i=1}^{n}  \\frac{f(X_i)}{p(X_i)}\\underset{n\\to +\\infty}{\\longrightarrow} I $$\n",
    "Il est essentiel de trouver une fonction p qui \"ressemble\" à notre fonction.\n",
    "On choisit ici deux fonctions affines:\n",
    "$$ f(x) =0.2+0.3*x $$\n",
    "$$ f(x)=\\frac{2}{15}+ \\frac{2}{15}*x $$"
   ]
  },
  {
   "cell_type": "code",
   "execution_count": 138,
   "metadata": {},
   "outputs": [
    {
     "data": {
      "text/html": [
       "1"
      ],
      "text/latex": [
       "1"
      ],
      "text/markdown": [
       "1"
      ],
      "text/plain": [
       "[1] 1"
      ]
     },
     "metadata": {},
     "output_type": "display_data"
    },
    {
     "data": {
      "text/html": [
       "1"
      ],
      "text/latex": [
       "1"
      ],
      "text/markdown": [
       "1"
      ],
      "text/plain": [
       "[1] 1"
      ]
     },
     "metadata": {},
     "output_type": "display_data"
    }
   ],
   "source": [
    "fx = function(x)\n",
    "{\n",
    "  return((0.2+0.3*x)*(x>=0 && x<=2))\n",
    "}\n",
    "\n",
    "fy = function(y)\n",
    "{\n",
    "  return((2/15+ 2/15*y)*(x>=0 && x<=3))\n",
    "}\n",
    "\n",
    "# on vérifie que les intégrales sur leurs supports respectifs\n",
    "# valent 1\n",
    "quad(fx, 0, 2)\n",
    "quad(fy, 0, 3)"
   ]
  },
  {
   "cell_type": "markdown",
   "metadata": {},
   "source": [
    "Simulations de nos X et Y, à partir de la méthode d'inversion"
   ]
  },
  {
   "cell_type": "markdown",
   "metadata": {},
   "source": [
    "Calcul des fonctions de répartition de X et Y à partir de leurs densités"
   ]
  },
  {
   "cell_type": "code",
   "execution_count": 139,
   "metadata": {},
   "outputs": [],
   "source": [
    "Fx = function(x)\n",
    "{\n",
    "  return((0.2*x+(0.15*x^2)))\n",
    "}\n",
    "\n",
    "Fy = function(y)\n",
    "{\n",
    "  return(2/15*x+ (1/30*x^2))\n",
    "}"
   ]
  },
  {
   "cell_type": "markdown",
   "metadata": {},
   "source": [
    "Calcul des fonction de répartition inverse"
   ]
  },
  {
   "cell_type": "code",
   "execution_count": 140,
   "metadata": {},
   "outputs": [],
   "source": [
    "Fx_inv = function(x)\n",
    "{\n",
    "  return(sqrt(20/3 * x + 4/9) - 2/3)\n",
    "}\n",
    "\n",
    "Fy_inv = function(y)\n",
    "{\n",
    "  return(sqrt(15*y + 1) - 1)\n",
    "}"
   ]
  },
  {
   "cell_type": "markdown",
   "metadata": {},
   "source": [
    "Maintenant que nous avons les fonctions de répartion inverse on peut simuler nos X et Y !"
   ]
  },
  {
   "cell_type": "code",
   "execution_count": 151,
   "metadata": {},
   "outputs": [],
   "source": [
    "#u = runif(n, inf_v, sup_v)\n",
    "u = runif(n, 0, 1)\n",
    "X = Fx_inv(u)\n",
    "Y = Fy_inv(u)\n",
    "Sn_array3 = 1/(1:n) * cumsum(h(X, Y)/(fx(X)*fy(Y)))\n",
    "Sn3 = 1/n * sum(h(X, Y)/(fx(X)*fy(Y)))\n",
    "biais3 = mean(Sn_array3[n]) - H\n",
    "variance3 = var(Sn_array3 - H)"
   ]
  },
  {
   "cell_type": "markdown",
   "metadata": {},
   "source": [
    "### 4) Méthode de la Copule"
   ]
  },
  {
   "cell_type": "markdown",
   "metadata": {},
   "source": [
    "Dans cette méthode, nous appliquerons les résultats d'une méthode de Monte Carlo mais avec une densité issue du théorème de Sklar. En effet d'après ce dernier:\n",
    "$$ p(x)= f(x)*f(y)*c(F(x),F(Y)) \\text{ est une densité}$$\n",
    "$$\\text{avec c une copule} $$\n",
    "\n",
    "Dans notre exemple nous utiliserons, la copule de Franck.\n",
    "Pour rappel la copule de Franck est \n",
    "\n",
    "$$ C(u,v)=\\frac{-1}{\\theta} ln(1 +\\frac{(e^{-\\theta u}-1)(e^{-\\theta v}-1)}{(e^{-\\theta}-1} $$\n",
    "\n",
    "\n",
    "En dérivant deux fois selon u et v on obtient c(u,v)\n",
    "$$ c(u,v)= \\frac{-\\theta *(e^{-\\theta u}*(e^{-\\theta v}(e^{-\\theta}-1)}{((e^{-\\theta}-1)+((e^{-\\theta u}-1)(e^{-\\theta v}-1))^{2}} $$\n",
    "\n",
    "Mais pour avoir le maximum de points au voisinage du point de coordonnées (1,1), nous renversons la fonction selon v.\n"
   ]
  },
  {
   "cell_type": "code",
   "execution_count": 142,
   "metadata": {},
   "outputs": [],
   "source": [
    "franck=function(u,v) {\n",
    "  teta=0.55\n",
    "  v=1-v\n",
    "    return( (-teta*exp(-teta*u)*exp(-teta*v)*(exp(-teta)-1))/(((exp(-teta)-1)+(exp(-teta*u)-1)*(exp(-teta*v)-1))^2))}"
   ]
  },
  {
   "cell_type": "code",
   "execution_count": 152,
   "metadata": {},
   "outputs": [],
   "source": [
    "h_copule=function(x,y) { fx(x)*fy(y)*franck(Fx(x),Fy(y))}"
   ]
  },
  {
   "cell_type": "markdown",
   "metadata": {},
   "source": [
    "On peut vérifier que h_copule a un graphe similaire à celui de notre fonction:\n",
    "Ces graphes peuvent être trouvé en annexe."
   ]
  },
  {
   "cell_type": "code",
   "execution_count": 153,
   "metadata": {},
   "outputs": [],
   "source": [
    "u = runif(n, 0, 1)\n",
    "v=  runif(n, 0, 1)\n",
    "X = Fx_inv(u)\n",
    "Y = Fy_inv(v)\n",
    "\n",
    "Sn_array4 = 1/(1:n) * cumsum(h(X,Y)/(h_copule(X,Y)))\n",
    "Sn4 = 1/n * sum(h(X,Y)/h_copule(X,Y))\n",
    "biais4 = mean(Sn_array3[n]) - H\n",
    "variance4 = var(Sn_array3 - H)\n",
    "\n"
   ]
  },
  {
   "cell_type": "markdown",
   "metadata": {},
   "source": [
    "### Affichage des résultats"
   ]
  },
  {
   "cell_type": "code",
   "execution_count": 154,
   "metadata": {},
   "outputs": [
    {
     "name": "stdout",
     "output_type": "stream",
     "text": [
      "[1] Vraie valeur de l'intégrale de h :  17.6027082428666\n",
      "[1] Méthode 1:\n",
      "[1] Valeur de l'intégrale de h :  16.896 biais:  -0.706708242866586  variance 1.42215193240954\n",
      "[1] Méthode 2:\n",
      "[1] valeur de l'intégrale de h estimé par la méthode 2 :  17.9922257477573 biais:  0.389517504890719  variance 0.549436007845468\n",
      "[1] Méthode 2.1:\n",
      "[1] valeur de l'intégrale de h estimé par la méthode 2.1 :  17.627732324481 biais:  0.0250240816144185  variance 0.00826357223387912\n",
      "[1] Méthode 3:\n",
      "[1] valeur de l'intégrale de h estimé par la méthode 3 :  17.1957040834604 biais:  -0.407004159406153  variance 0.0110099741574984\n",
      "[1] Méthode 4:\n",
      "[1] valeur de l'intégrale de h estimé par la méthode 4 :  17.5503530066642 biais:  -0.407004159406153  variance 0.0110099741574984\n"
     ]
    },
    {
     "data": {
      "image/png": "[encoded data removed]",
      "text/plain": [
       "Plot with title \"Vitesse de convergence\""
      ]
     },
     "metadata": {},
     "output_type": "display_data"
    }
   ],
   "source": [
    "# \"Vrai valeur de l'intégrale de h\n",
    "print(paste(\"Vraie valeur de l'intégrale de h : \", H),quote=FALSE)\n",
    "# On affiche les résultat des approximations\n",
    "print(paste(\"Méthode 1:\"),quote=FALSE)\n",
    "print(paste(\"Valeur de l'intégrale de h : \", Sn1,\"biais: \",biais1, \" variance\", variance1 ),quote=FALSE) \n",
    "print(paste(\"Méthode 2:\"),quote=FALSE)\n",
    "print(paste(\"valeur de l'intégrale de h estimé par la méthode 2 : \", Sn2,\"biais: \",biais2, \" variance\", variance2),quote=FALSE )\n",
    "print(paste(\"Méthode 2.1:\"),quote=FALSE)\n",
    "print(paste(\"valeur de l'intégrale de h estimé par la méthode 2.1 : \", Sn21,\"biais: \", biais21, \" variance\", variance21),quote=FALSE )\n",
    "print(paste(\"Méthode 3:\"),quote=FALSE)\n",
    "print(paste(\"valeur de l'intégrale de h estimé par la méthode 3 : \", Sn3,\"biais: \", biais3, \" variance\", variance3),quote=FALSE )\n",
    "print(paste(\"Méthode 4:\"),quote=FALSE)\n",
    "print(paste(\"valeur de l'intégrale de h estimé par la méthode 4 : \", Sn4,\"biais: \", biais4, \" variance\", variance4),quote=FALSE )\n",
    "\n",
    "\n",
    "# On affiche le graph des 5 estimateurs afin d'étudier\n",
    "# la vitesse de convergence vers la \"vrai valeur\"\n",
    "plot(Sn_array1,\n",
    "     col=\"gray0\",\n",
    "     type=\"l\",\n",
    "     ylim=c(10,20),\n",
    "     #xlim=x(100, n),\n",
    "     main=\"Vitesse de convergence\",\n",
    "     xlab=\"Nombres de simulations\",\n",
    "     ylab=\"Intégrale estimée\")\n",
    "abline(H, 0)\n",
    "lines(Sn_array2,type=\"l\", col=\"blue\")\n",
    "lines(Sn_array21, col=\"yellow\")\n",
    "lines(Sn_array3, col=\"green\")\n",
    "lines(Sn_array4, col=\"purple\")\n",
    "\n",
    "\n",
    "\n",
    "\n",
    "legend(400, 12.8,\n",
    "       legend=c(\"Méthode des Volumes\",\n",
    "                \"Méthode de Monte Carlo\",\n",
    "                \"Méthode des Variables Antithétiques\",\n",
    "                \"Méthode de la densité jointe\",\n",
    "                \"Méthode des copules\"),\n",
    "       col=c(\"gray0\",\n",
    "             \"blue\",\n",
    "             \"yellow\",\n",
    "             \"green\",\n",
    "             \"purple\"),\n",
    "       lwd=4,\n",
    "       cex=0.8)"
   ]
  },
  {
   "cell_type": "markdown",
   "metadata": {},
   "source": [
    "$$\\textbf{Conclusion:} $$\n",
    "On remarque que l'on obtient des résulats cohérants avec ceux attendus. \n",
    "Les méthodes des copules et des variables antithétiques sont celles qui convergent le plus vite et dont l'écart avec la donnée réelle est la meilleure. La convergence des modèles est relativement similaire mais  la méthode des variables anithétiques posséde un biais et une variance plus faible."
   ]
  },
  {
   "cell_type": "code",
   "execution_count": null,
   "metadata": {},
   "outputs": [],
   "source": []
  }
 ],
 "metadata": {
  "kernelspec": {
   "display_name": "R",
   "language": "R",
   "name": "ir"
  },
  "language_info": {
   "codemirror_mode": "r",
   "file_extension": ".r",
   "mimetype": "text/x-r-source",
   "name": "R",
   "pygments_lexer": "r",
   "version": "3.5.1"
  }
 },
 "nbformat": 4,
 "nbformat_minor": 2
}
